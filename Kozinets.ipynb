{
 "cells": [
  {
   "cell_type": "code",
   "execution_count": 1,
   "metadata": {},
   "outputs": [],
   "source": [
    "import numpy as np\n",
    "import pandas as pd\n",
    "import matplotlib.pyplot as plt\n",
    "from sklearn.model_selection import train_test_split \n",
    "from Kozinets_algorithm import classificator, for_test, plot"
   ]
  },
  {
   "cell_type": "code",
   "execution_count": 2,
   "metadata": {},
   "outputs": [],
   "source": [
    "inner = np.asarray([\n",
    "    [0.7295200749361322, 0.7286337326606256],\n",
    "    [0.826505923560258, 0.9403158114766519],\n",
    "    [0.6023139955320228, 0.4890999051968531],\n",
    "    [0.7924301535257385, 0.9724603339895345],\n",
    "    [0.3739062132424882, 0.3807945141554343],\n",
    "    [0.5213825315815278, 0.7011647516840395],\n",
    "    [0.5799489554848042, 0.860210492806848],\n",
    "    [0.4472712889659769, 0.23208680582951224],\n",
    "    [0.8266928088733442, 0.9708616047497776],\n",
    "    [0.2096090384196102, 0.07948946448504302],\n",
    "    [0.33832612728389067, 0.4113630733104253],\n",
    "    [0.68383264433507, 0.9003136248995234],\n",
    "    [0.3974079484193441, 0.44643242592599985],\n",
    "    [0.26193673674112883, 0.20727182114712916]\n",
    "  ])\n",
    "\n",
    "outer =  np.asarray([\n",
    "    [0.846590438950232, 0.12680486596335516],\n",
    "    [0.11671041192819076, 0.8523469688748586],\n",
    "    [0.8939436660435063, 0.20441969005621619],\n",
    "    [0.196515524259539, 0.7563403480339516],\n",
    "    [0.762462325724514, 0.17675381094088127],\n",
    "    [0.8646206065391742, 0.4289513713302239],\n",
    "    [0.7086382515784717, 0.1718070095596751],\n",
    "    [0.07308462517167347, 0.7068687883532849],\n",
    "    [0.7429722924973284, 0.19681071128913086],\n",
    "    [0.685062552324161, 0.011556200983953824],\n",
    "    [0.05599840395566957, 0.5147182562252324],\n",
    "    [0.9645548277207796, 0.4500437929854587],\n",
    "    [0.25076267013066156, 0.8845898320940508],\n",
    "    [0.12851981469617013, 0.7983431014344502],\n",
    "    [0.01817344753341743, 0.845385785214988]\n",
    "  ])\n",
    "inner = inner.T\n",
    "outer = outer.T\n",
    "df_in = pd.DataFrame({'X': inner[0], 'Y': inner[1], 'class': -1})\n",
    "df_out = pd.DataFrame({'X': outer[0], 'Y': outer[1], 'class': 1})\n",
    "df = pd.concat(([df_in,df_out]), ignore_index = True)"
   ]
  },
  {
   "cell_type": "code",
   "execution_count": 3,
   "metadata": {},
   "outputs": [],
   "source": [
    "plt.scatter(inner[0], inner[1], color = 'red')\n",
    "plt.scatter(outer[0], outer[1], color = 'blue')\n",
    "plt.show()"
   ]
  },
  {
   "cell_type": "code",
   "execution_count": 4,
   "metadata": {},
   "outputs": [],
   "source": [
    "train, test1, y, y_test = train_test_split(df[['X', 'Y']], df['class'], test_size=0.2)"
   ]
  },
  {
   "cell_type": "code",
   "execution_count": 5,
   "metadata": {},
   "outputs": [],
   "source": [
    "X = pd.DataFrame({'C': 1, 'X': train.X, 'Y': train.Y, 'X^2': train.X*train.X, 'X*Y': train.X*train.Y, 'Y*X': train.X*train.Y, 'Y^2': train.Y*train.Y})"
   ]
  },
  {
   "cell_type": "code",
   "execution_count": 6,
   "metadata": {},
   "outputs": [
    {
     "name": "stdout",
     "output_type": "stream",
     "text": [
      "C     -0.006093\n",
      "X     -0.006052\n",
      "Y      0.005633\n",
      "X^2    0.042242\n",
      "X*Y   -0.034028\n",
      "Y*X   -0.034028\n",
      "Y^2    0.027998\n",
      "dtype: float64\n"
     ]
    }
   ],
   "source": [
    "beta = np.zeros(7)\n",
    "beta = classificator(beta, X, y)"
   ]
  },
  {
   "cell_type": "code",
   "execution_count": 7,
   "metadata": {},
   "outputs": [],
   "source": [
    "plot(train, y, beta)\n",
    "plt.show()"
   ]
  },
  {
   "cell_type": "code",
   "execution_count": 8,
   "metadata": {},
   "outputs": [
    {
     "data": {
      "text/html": [
       "<div>\n",
       "<style scoped>\n",
       "    .dataframe tbody tr th:only-of-type {\n",
       "        vertical-align: middle;\n",
       "    }\n",
       "\n",
       "    .dataframe tbody tr th {\n",
       "        vertical-align: top;\n",
       "    }\n",
       "\n",
       "    .dataframe thead th {\n",
       "        text-align: right;\n",
       "    }\n",
       "</style>\n",
       "<table border=\"1\" class=\"dataframe\">\n",
       "  <thead>\n",
       "    <tr style=\"text-align: right;\">\n",
       "      <th></th>\n",
       "      <th>X</th>\n",
       "      <th>Y</th>\n",
       "      <th>Predicted</th>\n",
       "      <th>class</th>\n",
       "    </tr>\n",
       "  </thead>\n",
       "  <tbody>\n",
       "    <tr>\n",
       "      <th>0</th>\n",
       "      <td>0.729520</td>\n",
       "      <td>0.728634</td>\n",
       "      <td>-1</td>\n",
       "      <td>-1</td>\n",
       "    </tr>\n",
       "    <tr>\n",
       "      <th>10</th>\n",
       "      <td>0.338326</td>\n",
       "      <td>0.411363</td>\n",
       "      <td>-1</td>\n",
       "      <td>-1</td>\n",
       "    </tr>\n",
       "    <tr>\n",
       "      <th>4</th>\n",
       "      <td>0.373906</td>\n",
       "      <td>0.380795</td>\n",
       "      <td>-1</td>\n",
       "      <td>-1</td>\n",
       "    </tr>\n",
       "    <tr>\n",
       "      <th>18</th>\n",
       "      <td>0.762462</td>\n",
       "      <td>0.176754</td>\n",
       "      <td>1</td>\n",
       "      <td>1</td>\n",
       "    </tr>\n",
       "    <tr>\n",
       "      <th>28</th>\n",
       "      <td>0.018173</td>\n",
       "      <td>0.845386</td>\n",
       "      <td>1</td>\n",
       "      <td>1</td>\n",
       "    </tr>\n",
       "    <tr>\n",
       "      <th>22</th>\n",
       "      <td>0.742972</td>\n",
       "      <td>0.196811</td>\n",
       "      <td>1</td>\n",
       "      <td>1</td>\n",
       "    </tr>\n",
       "  </tbody>\n",
       "</table>\n",
       "</div>"
      ],
      "text/plain": [
       "           X         Y  Predicted  class\n",
       "0   0.729520  0.728634         -1     -1\n",
       "10  0.338326  0.411363         -1     -1\n",
       "4   0.373906  0.380795         -1     -1\n",
       "18  0.762462  0.176754          1      1\n",
       "28  0.018173  0.845386          1      1\n",
       "22  0.742972  0.196811          1      1"
      ]
     },
     "execution_count": 8,
     "metadata": {},
     "output_type": "execute_result"
    }
   ],
   "source": [
    "test0 = for_test(test1, beta)\n",
    "\n",
    "df_compare = pd.concat([test0[['X', 'Y', 'Predicted']], y_test], axis = 1)\n",
    "df_compare"
   ]
  },
  {
   "cell_type": "code",
   "execution_count": 9,
   "metadata": {},
   "outputs": [],
   "source": [
    "plot(test1, y_test, beta)\n",
    "plt.show()"
   ]
  },
  {
   "cell_type": "code",
   "execution_count": 10,
   "metadata": {},
   "outputs": [],
   "source": [
    "inner = np.asarray([\n",
    "    [0.6721751810634596, 0.18449311250437642],\n",
    "    [-0.042169919316812694, 0.49680717330122753],\n",
    "    [0.036908766218045196, 0.23196814194239498],\n",
    "    [-0.18516646555268645, -0.16324434635897248],\n",
    "    [0.19909138385183697, -0.20702094026594725],\n",
    "    [-0.2623894406811841, 0.4468810030788092],\n",
    "    [0.619550362174564, 0.03980697858179339],\n",
    "    [0.4418628679007078, -0.0039497588794656585],\n",
    "    [0.2802286875966722, -0.3525718017732991],\n",
    "    [0.07448927922989906, -0.4973644925498143],\n",
    "    [0.6422888179711995, -0.0035410965993326157],\n",
    "    [0.039664220315716536, 0.34884886593497205],\n",
    "    [0.4825251758452453, 0.5597992922297098],\n",
    "    [-0.12480141590985117, 0.3639607311580515],\n",
    "    [0.45864564291438903, 0.5039088481769888],\n",
    "    [0.4953345038557703, 0.29819697998837763],\n",
    "    [0.2106700620743459, -0.2647756656167547],\n",
    "    [-0.16518914904666915, 0.31212217489262595],\n",
    "    [0.23046293495668924, -0.013246417684656153]\n",
    "  ])\n",
    "\n",
    "outer =  np.asarray([\n",
    "    [0.8281937591326639, -0.48370952458304206],\n",
    "    [-0.7858693510608477, -0.23619862036716505],\n",
    "    [-0.71001136864972, 0.41404672725112407],\n",
    "    [-0.4664238951665492, 0.7619952612050831],\n",
    "    [-0.457969679633352, 0.6615982411339161],\n",
    "    [0.5983181292607914, -0.8221655651644655],\n",
    "    [0.8221320333779605, -0.15771200790888465],\n",
    "    [-0.49537312338291506, -0.7711426700819444],\n",
    "    [-0.7422364964100625, 0.7182224765639817],\n",
    "    [-0.6377879808015602, 0.5664880970210512],\n",
    "    [-0.9306163344230406, 0.40367110070906637],\n",
    "    [-0.8220373822748085, 0.6909977471317875],\n",
    "    [0.8486753113201562, 0.63804443731353],\n",
    "    [-0.6326025764414666, -0.5660631348100686],\n",
    "    [-0.7988878989878563, -0.7972747092759437],\n",
    "    [0.8665672650446975, 0.09077183191199585],\n",
    "    [0.8297187116097032, -0.19949614828904294],\n",
    "    [-0.7881099342086356, 0.5319196165347493],\n",
    "    [-0.6965345338796621, 0.034560747319591745],\n",
    "    [-0.5844695109910769, 0.8287781873912904]\n",
    "  ])\n",
    "\n",
    "\n",
    "inner = inner.T\n",
    "outer = outer.T\n",
    "df_in = pd.DataFrame({'X': inner[0], 'Y': inner[1], 'class': -1})\n",
    "df_out = pd.DataFrame({'X': outer[0], 'Y': outer[1], 'class': 1})\n",
    "df = pd.concat(([df_in,df_out]), ignore_index = True)"
   ]
  },
  {
   "cell_type": "code",
   "execution_count": 11,
   "metadata": {},
   "outputs": [],
   "source": [
    "plt.scatter(inner[0], inner[1], color = 'red')\n",
    "plt.scatter(outer[0], outer[1], color = 'blue')\n",
    "plt.show()"
   ]
  },
  {
   "cell_type": "code",
   "execution_count": 12,
   "metadata": {},
   "outputs": [],
   "source": [
    "train, test1, y, y_test = train_test_split(df[['X', 'Y']], df['class'], test_size=0.2)"
   ]
  },
  {
   "cell_type": "code",
   "execution_count": 13,
   "metadata": {},
   "outputs": [],
   "source": [
    "X = pd.DataFrame({'C': 1, 'X': train.X, 'Y': train.Y, 'X^2': train.X*train.X, 'X*Y': train.X*train.Y, 'Y*X': train.X*train.Y, 'Y^2': train.Y*train.Y})"
   ]
  },
  {
   "cell_type": "code",
   "execution_count": 14,
   "metadata": {},
   "outputs": [
    {
     "name": "stdout",
     "output_type": "stream",
     "text": [
      "C     -0.067364\n",
      "X     -0.055367\n",
      "Y      0.016733\n",
      "X^2    0.211529\n",
      "X*Y   -0.019923\n",
      "Y*X   -0.019923\n",
      "Y^2    0.115348\n",
      "dtype: float64\n"
     ]
    }
   ],
   "source": [
    "beta = np.zeros(7)\n",
    "beta = classificator(beta, X, y)"
   ]
  },
  {
   "cell_type": "code",
   "execution_count": 15,
   "metadata": {},
   "outputs": [],
   "source": [
    "plot(train, y, beta)\n",
    "plt.show()"
   ]
  },
  {
   "cell_type": "code",
   "execution_count": 16,
   "metadata": {},
   "outputs": [
    {
     "data": {
      "text/html": [
       "<div>\n",
       "<style scoped>\n",
       "    .dataframe tbody tr th:only-of-type {\n",
       "        vertical-align: middle;\n",
       "    }\n",
       "\n",
       "    .dataframe tbody tr th {\n",
       "        vertical-align: top;\n",
       "    }\n",
       "\n",
       "    .dataframe thead th {\n",
       "        text-align: right;\n",
       "    }\n",
       "</style>\n",
       "<table border=\"1\" class=\"dataframe\">\n",
       "  <thead>\n",
       "    <tr style=\"text-align: right;\">\n",
       "      <th></th>\n",
       "      <th>X</th>\n",
       "      <th>Y</th>\n",
       "      <th>Predicted</th>\n",
       "      <th>class</th>\n",
       "    </tr>\n",
       "  </thead>\n",
       "  <tbody>\n",
       "    <tr>\n",
       "      <th>33</th>\n",
       "      <td>-0.798888</td>\n",
       "      <td>-0.797275</td>\n",
       "      <td>1</td>\n",
       "      <td>1</td>\n",
       "    </tr>\n",
       "    <tr>\n",
       "      <th>32</th>\n",
       "      <td>-0.632603</td>\n",
       "      <td>-0.566063</td>\n",
       "      <td>1</td>\n",
       "      <td>1</td>\n",
       "    </tr>\n",
       "    <tr>\n",
       "      <th>8</th>\n",
       "      <td>0.280229</td>\n",
       "      <td>-0.352572</td>\n",
       "      <td>-1</td>\n",
       "      <td>-1</td>\n",
       "    </tr>\n",
       "    <tr>\n",
       "      <th>21</th>\n",
       "      <td>-0.710011</td>\n",
       "      <td>0.414047</td>\n",
       "      <td>1</td>\n",
       "      <td>1</td>\n",
       "    </tr>\n",
       "    <tr>\n",
       "      <th>30</th>\n",
       "      <td>-0.822037</td>\n",
       "      <td>0.690998</td>\n",
       "      <td>1</td>\n",
       "      <td>1</td>\n",
       "    </tr>\n",
       "    <tr>\n",
       "      <th>35</th>\n",
       "      <td>0.829719</td>\n",
       "      <td>-0.199496</td>\n",
       "      <td>1</td>\n",
       "      <td>1</td>\n",
       "    </tr>\n",
       "    <tr>\n",
       "      <th>1</th>\n",
       "      <td>-0.042170</td>\n",
       "      <td>0.496807</td>\n",
       "      <td>-1</td>\n",
       "      <td>-1</td>\n",
       "    </tr>\n",
       "    <tr>\n",
       "      <th>14</th>\n",
       "      <td>0.458646</td>\n",
       "      <td>0.503909</td>\n",
       "      <td>-1</td>\n",
       "      <td>-1</td>\n",
       "    </tr>\n",
       "  </tbody>\n",
       "</table>\n",
       "</div>"
      ],
      "text/plain": [
       "           X         Y  Predicted  class\n",
       "33 -0.798888 -0.797275          1      1\n",
       "32 -0.632603 -0.566063          1      1\n",
       "8   0.280229 -0.352572         -1     -1\n",
       "21 -0.710011  0.414047          1      1\n",
       "30 -0.822037  0.690998          1      1\n",
       "35  0.829719 -0.199496          1      1\n",
       "1  -0.042170  0.496807         -1     -1\n",
       "14  0.458646  0.503909         -1     -1"
      ]
     },
     "execution_count": 16,
     "metadata": {},
     "output_type": "execute_result"
    }
   ],
   "source": [
    "test0 = for_test(test1, beta)\n",
    "\n",
    "df_compare = pd.concat([test0[['X', 'Y', 'Predicted']], y_test], axis = 1)\n",
    "df_compare"
   ]
  },
  {
   "cell_type": "code",
   "execution_count": 17,
   "metadata": {},
   "outputs": [],
   "source": [
    "plot(test1, y_test, beta)\n",
    "plt.show()"
   ]
  }
 ],
 "metadata": {
  "kernelspec": {
   "display_name": "Python 3",
   "language": "python",
   "name": "python3"
  },
  "language_info": {
   "codemirror_mode": {
    "name": "ipython",
    "version": 3
   },
   "file_extension": ".py",
   "mimetype": "text/x-python",
   "name": "python",
   "nbconvert_exporter": "python",
   "pygments_lexer": "ipython3",
   "version": "3.7.6"
  }
 },
 "nbformat": 4,
 "nbformat_minor": 4
}
